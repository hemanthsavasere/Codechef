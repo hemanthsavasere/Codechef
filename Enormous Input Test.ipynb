{
 "cells": [
  {
   "cell_type": "code",
   "execution_count": 1,
   "metadata": {},
   "outputs": [
    {
     "name": "stdout",
     "output_type": "stream",
     "text": [
      "7 3\n",
      "1 \n",
      "51\n",
      "96639\n",
      "12\n",
      "44\n",
      "32\n",
      "29\n",
      "3\n"
     ]
    }
   ],
   "source": [
    "(n, k) = map(int, input().split(' '))\n",
    "ans = 0\n",
    "for i in range(n):\n",
    "    x = int(input())\n",
    "    if x % k == 0:\n",
    "    ans += 1\n",
    "print(ans)"
   ]
  }
 ],
 "metadata": {
  "kernelspec": {
   "display_name": "Python 3",
   "language": "python",
   "name": "python3"
  },
  "language_info": {
   "codemirror_mode": {
    "name": "ipython",
    "version": 3
   },
   "file_extension": ".py",
   "mimetype": "text/x-python",
   "name": "python",
   "nbconvert_exporter": "python",
   "pygments_lexer": "ipython3",
   "version": "3.6.5"
  }
 },
 "nbformat": 4,
 "nbformat_minor": 2
}
