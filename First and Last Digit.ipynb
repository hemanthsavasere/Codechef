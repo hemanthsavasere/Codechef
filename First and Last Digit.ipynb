{
 "cells": [
  {
   "cell_type": "code",
   "execution_count": 1,
   "metadata": {},
   "outputs": [
    {
     "name": "stdout",
     "output_type": "stream",
     "text": [
      "4\n",
      "13456\n",
      "7\n",
      "3456\n",
      "9\n",
      "34322\n",
      "5\n",
      "99\n",
      "18\n"
     ]
    }
   ],
   "source": [
    "for _ in range(int(input())):\n",
    "    k = input()\n",
    "    print(int(k[0]) + int(k[-1]))"
   ]
  }
 ],
 "metadata": {
  "kernelspec": {
   "display_name": "Python 3",
   "language": "python",
   "name": "python3"
  },
  "language_info": {
   "codemirror_mode": {
    "name": "ipython",
    "version": 3
   },
   "file_extension": ".py",
   "mimetype": "text/x-python",
   "name": "python",
   "nbconvert_exporter": "python",
   "pygments_lexer": "ipython3",
   "version": "3.6.5"
  }
 },
 "nbformat": 4,
 "nbformat_minor": 2
}
