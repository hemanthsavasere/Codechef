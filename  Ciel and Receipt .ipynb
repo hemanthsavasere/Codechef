{
 "cells": [
  {
   "cell_type": "code",
   "execution_count": 5,
   "metadata": {},
   "outputs": [
    {
     "name": "stdout",
     "output_type": "stream",
     "text": [
      "2\n",
      "255\n",
      "8\n",
      "2048\n",
      "1\n"
     ]
    }
   ],
   "source": [
    "arr = [2048, 1024, 512, 256, 128, 64, 32, 16, 8, 4, 2, 1]\n",
    "for _ in range(int(input())):\n",
    "    num = int(input())\n",
    "    cnt, i = 0, 0\n",
    "    while num and i <= 11:\n",
    "        while arr[i] <= num:\n",
    "            num -= arr[i]\n",
    "            cnt += 1\n",
    "        i += 1\n",
    "    print(cnt)"
   ]
  }
 ],
 "metadata": {
  "kernelspec": {
   "display_name": "Python 3",
   "language": "python",
   "name": "python3"
  },
  "language_info": {
   "codemirror_mode": {
    "name": "ipython",
    "version": 3
   },
   "file_extension": ".py",
   "mimetype": "text/x-python",
   "name": "python",
   "nbconvert_exporter": "python",
   "pygments_lexer": "ipython3",
   "version": "3.6.5"
  }
 },
 "nbformat": 4,
 "nbformat_minor": 2
}
