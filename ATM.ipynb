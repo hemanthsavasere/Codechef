{
 "cells": [
  {
   "cell_type": "code",
   "execution_count": 15,
   "metadata": {},
   "outputs": [
    {
     "name": "stdout",
     "output_type": "stream",
     "text": [
      "34 100\n",
      "100.00\n"
     ]
    }
   ],
   "source": [
    "withdrawl, balance = map(float, input().split())\n",
    "\n",
    "if int(withdrawl) % 5 != 0:\n",
    "    print(\"%.2f\" %balance)\n",
    "elif withdrawl + 0.5 > balance:\n",
    "    print(\"%.2f\" %balance)\n",
    "else:\n",
    "    print(\"%.2f\" %(balance - 0.50 - withdrawl))"
   ]
  },
  {
   "cell_type": "code",
   "execution_count": null,
   "metadata": {},
   "outputs": [],
   "source": []
  }
 ],
 "metadata": {
  "kernelspec": {
   "display_name": "Python 3",
   "language": "python",
   "name": "python3"
  },
  "language_info": {
   "codemirror_mode": {
    "name": "ipython",
    "version": 3
   },
   "file_extension": ".py",
   "mimetype": "text/x-python",
   "name": "python",
   "nbconvert_exporter": "python",
   "pygments_lexer": "ipython3",
   "version": "3.6.5"
  }
 },
 "nbformat": 4,
 "nbformat_minor": 2
}
