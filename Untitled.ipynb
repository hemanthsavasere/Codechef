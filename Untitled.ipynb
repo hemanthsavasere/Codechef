{
 "cells": [
  {
   "cell_type": "code",
   "execution_count": null,
   "metadata": {},
   "outputs": [
    {
     "name": "stdout",
     "output_type": "stream",
     "text": [
      "5\n",
      "140 82\n"
     ]
    }
   ],
   "source": [
    "maxi, play = 0, 0 \n",
    "sc1, sc2 = 0, 0\n",
    "for _ in range(int(input())):\n",
    "    a, b = map(int, input().split())\n",
    "    sc1 += a\n",
    "    sc2 += b\n",
    "    if sc1 > sc2 and sc1-sc2 > maxi:\n",
    "        play = 1\n",
    "        maxi = sc1-sc2\n",
    "    if sc2 > sc1 and sc2-sc1 > maxi:\n",
    "        play = 2\n",
    "        maxi = sc2-sc1\n",
    "print(play, maxi)"
   ]
  }
 ],
 "metadata": {
  "kernelspec": {
   "display_name": "Python 3",
   "language": "python",
   "name": "python3"
  },
  "language_info": {
   "codemirror_mode": {
    "name": "ipython",
    "version": 3
   },
   "file_extension": ".py",
   "mimetype": "text/x-python",
   "name": "python",
   "nbconvert_exporter": "python",
   "pygments_lexer": "ipython3",
   "version": "3.6.5"
  }
 },
 "nbformat": 4,
 "nbformat_minor": 2
}
