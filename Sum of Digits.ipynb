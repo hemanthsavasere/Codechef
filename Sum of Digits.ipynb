{
 "cells": [
  {
   "cell_type": "code",
   "execution_count": 2,
   "metadata": {},
   "outputs": [
    {
     "name": "stdout",
     "output_type": "stream",
     "text": [
      "3\n",
      "1234\n",
      "10\n",
      "234\n",
      "9\n",
      "56\n",
      "11\n"
     ]
    }
   ],
   "source": [
    "for _ in range(int(input())):\n",
    "    summ = 0\n",
    "    num = input()\n",
    "    for i in num:\n",
    "        summ += int(i)\n",
    "    print(summ)"
   ]
  }
 ],
 "metadata": {
  "kernelspec": {
   "display_name": "Python 3",
   "language": "python",
   "name": "python3"
  },
  "language_info": {
   "codemirror_mode": {
    "name": "ipython",
    "version": 3
   },
   "file_extension": ".py",
   "mimetype": "text/x-python",
   "name": "python",
   "nbconvert_exporter": "python",
   "pygments_lexer": "ipython3",
   "version": "3.6.5"
  }
 },
 "nbformat": 4,
 "nbformat_minor": 2
}
